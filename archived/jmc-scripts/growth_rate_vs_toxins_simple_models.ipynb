{
 "cells": [
  {
   "cell_type": "markdown",
   "metadata": {},
   "source": [
    "# This demonstrates how to do a spatial simulation with a susceptible, resistant, and producer strains, all using toy metabolic models, in COMETS."
   ]
  },
  {
   "cell_type": "code",
   "execution_count": 1,
   "metadata": {},
   "outputs": [],
   "source": [
    "import cobra\n",
    "import random\n",
    "from cobra import Metabolite, Reaction, Model\n",
    "import pandas as pd\n",
    "import os"
   ]
  },
  {
   "cell_type": "code",
   "execution_count": 2,
   "metadata": {},
   "outputs": [],
   "source": [
    "import cometspy as c"
   ]
  },
  {
   "cell_type": "markdown",
   "metadata": {},
   "source": [
    "# Build the toy models. I'm putting the function I use here for visibility, although usually I keep it in a separate file which I import."
   ]
  },
  {
   "cell_type": "code",
   "execution_count": 50,
   "metadata": {},
   "outputs": [],
   "source": [
    "def make_RPS_cobra_models_biomass_cost(growth_rate = 1., toxin_cost = 0.02, resistance_cost = 0.0, toxin_prod = 1.):\n",
    "    # this is different from make RPS cobra models because the toxin and resistance cost is put into the\n",
    "    # biomass reaction, rather than a separate reaction. this is important because toxins will only\n",
    "    # be created during growth.also, no need to multiply costs by growth rate. in all cases, they\n",
    "    # vary directly with growth rate. finally, in all cases as much toxin is produced as carbon is taken\n",
    "    # up, regardless of growth rate.\n",
    "    #\n",
    "    # These toy models use \"carbon_c\" to grow--that is the only resource\n",
    "    #\n",
    "    # the toxin is called \"toxin_e\"\n",
    "    '''\n",
    "    @toxin_prod:  a multiplier.  the multiple of mmol of toxin made per gram of carbon taken up\n",
    "    '''\n",
    "    carbon_e = Metabolite(id = \"carbon_e\",\n",
    "               compartment = \"e\")\n",
    "    carbon_c = Metabolite(id = \"carbon_c\",\n",
    "                   compartment = \"c\")\n",
    "    EX_carbon_e = Reaction(id = \"EX_carbon_e\",\n",
    "                      lower_bound = -growth_rate, # growth rate\n",
    "                      upper_bound = 1000.)\n",
    "    EX_carbon_e.add_metabolites({carbon_e: -1})\n",
    "    carbon_transfer = Reaction(id = \"carbon_transfer\",\n",
    "                          lower_bound = 0.,\n",
    "                          upper_bound = 1000.)\n",
    "    carbon_transfer.add_metabolites({carbon_e: -1,\n",
    "                                carbon_c: 1})\n",
    "    Biomass = Reaction(id = \"Biomass\",\n",
    "                  lower_bound = 0.,\n",
    "                  upper_bound = 1000.)\n",
    "    Biomass.add_metabolites({carbon_c: -1.})\n",
    "    # make the toxicity-related metabolites and reactions\n",
    "    toxin_c = Metabolite(id = \"toxin_c\", compartment = \"c\")\n",
    "    toxin_e = Metabolite(id = \"toxin_e\", compartment = \"e\")\n",
    "\n",
    "    EX_toxin_e = Reaction(id = \"EX_toxin_e\",\n",
    "                         lower_bound = -1000.,\n",
    "                         upper_bound = 1000.)\n",
    "    EX_toxin_e.add_metabolites({toxin_e: -1})\n",
    "\n",
    "    toxin_transfer = Reaction(id = \"toxin_transfer\",\n",
    "                             lower_bound = -1000.,\n",
    "                             upper_bound = 0.)\n",
    "    toxin_transfer.add_metabolites({toxin_e: -1,\n",
    "                                   toxin_c: 1})\n",
    "\n",
    "    Biomass_producer = Reaction(id = \"Biomass\",\n",
    "                  lower_bound = 0.,\n",
    "                  upper_bound = 1000.)\n",
    "    Biomass_producer.add_metabolites({carbon_c: -(1. + toxin_cost + resistance_cost),\n",
    "                                     toxin_c: toxin_prod * (1. + toxin_cost + resistance_cost)})\n",
    "\n",
    "    Biomass_resistant = Reaction(id = \"Biomass\",\n",
    "                  lower_bound = 0.,\n",
    "                  upper_bound = 1000.)\n",
    "    Biomass_resistant.add_metabolites({carbon_c: -(1. + resistance_cost)})\n",
    "\n",
    "    producer = Model(\"producer\")\n",
    "    producer.add_reactions([EX_carbon_e, carbon_transfer, Biomass_producer,\n",
    "                        EX_toxin_e, toxin_transfer])\n",
    "    producer.objective = Biomass_producer\n",
    "\n",
    "    resistant = Model(\"resistant\")\n",
    "    resistant.add_reactions([EX_carbon_e, carbon_transfer, Biomass_resistant])\n",
    "    resistant.objective = Biomass_resistant\n",
    "\n",
    "    susceptible = Model(\"susceptible\")\n",
    "    susceptible.add_reactions([EX_carbon_e, carbon_transfer, Biomass,\n",
    "                        EX_toxin_e])\n",
    "    susceptible.objective = Biomass\n",
    "    return((producer, resistant, susceptible))"
   ]
  },
  {
   "cell_type": "code",
   "execution_count": 51,
   "metadata": {},
   "outputs": [],
   "source": [
    "growth_rate = 0.75\n",
    "\n",
    "producer, resistant, susceptible = make_RPS_cobra_models_biomass_cost(growth_rate = growth_rate, toxin_cost = 0., toxin_prod = 15)"
   ]
  },
  {
   "cell_type": "markdown",
   "metadata": {},
   "source": [
    "# Now make the COMETS models from these, and add a signal to the susceptible which linearly reduces growth rate until the toxin concentration = 1M, when the growth ceases altogether."
   ]
  },
  {
   "cell_type": "code",
   "execution_count": 52,
   "metadata": {},
   "outputs": [],
   "source": [
    "P = c.model(producer)\n",
    "R = c.model(resistant)\n",
    "S = c.model(susceptible)\n",
    "\n",
    "P.obj_style = \"MAX_OBJECTIVE_MIN_TOTAL\"\n",
    "R.obj_style = \"MAX_OBJECTIVE_MIN_TOTAL\"\n",
    "S.obj_style = \"MAX_OBJECTIVE_MIN_TOTAL\""
   ]
  },
  {
   "cell_type": "code",
   "execution_count": 53,
   "metadata": {},
   "outputs": [
    {
     "data": {
      "text/plain": [
       "'carbon_c --> 15.0 toxin_c'"
      ]
     },
     "execution_count": 53,
     "metadata": {},
     "output_type": "execute_result"
    }
   ],
   "source": [
    "producer.rmetabo"
   ]
  },
  {
   "cell_type": "code",
   "execution_count": 54,
   "metadata": {},
   "outputs": [
    {
     "data": {
      "text/plain": [
       "0.75"
      ]
     },
     "execution_count": 54,
     "metadata": {},
     "output_type": "execute_result"
    }
   ],
   "source": [
    "producer.slim_optimize()"
   ]
  },
  {
   "cell_type": "markdown",
   "metadata": {},
   "source": [
    "# Note that comets erroneously assumes the biomass equation is an exchange in the susceptible and resistant, because it is unbalanced. So we fix that first"
   ]
  },
  {
   "cell_type": "code",
   "execution_count": 21,
   "metadata": {},
   "outputs": [],
   "source": [
    "R.reactions.loc[R.reactions.REACTION_NAMES == \"Biomass\", \"EXCH\"] = False\n",
    "index = R.reactions.loc[R.reactions.REACTION_NAMES == \"Biomass\", \"EXCH_IND\"].values[0]\n",
    "R.reactions.loc[R.reactions.REACTION_NAMES == \"Biomass\", \"EXCH_IND\"] = 0\n",
    "R.reactions.loc[R.reactions.EXCH_IND > index, \"EXCH_IND\"] -= 1\n",
    "\n",
    "S.reactions.loc[S.reactions.REACTION_NAMES == \"Biomass\", \"EXCH\"] = False\n",
    "index = S.reactions.loc[S.reactions.REACTION_NAMES == \"Biomass\", \"EXCH_IND\"].values[0]\n",
    "S.reactions.loc[S.reactions.REACTION_NAMES == \"Biomass\", \"EXCH_IND\"] = 0\n",
    "S.reactions.loc[S.reactions.EXCH_IND > index, \"EXCH_IND\"] -= 1"
   ]
  },
  {
   "cell_type": "markdown",
   "metadata": {},
   "source": [
    "# Now we add the \"signal\" to susceptible, which reduces growth rate proportionate to [toxin_e]. We use a \"bounded_linear\" function for this, because we don't want the upper bound of growth rate to go negative. "
   ]
  },
  {
   "cell_type": "code",
   "execution_count": 22,
   "metadata": {},
   "outputs": [],
   "source": [
    "biomass_id = S.reactions.loc[S.reactions.REACTION_NAMES == \"Biomass\", \"ID\"].values[0]\n",
    "toxin_exch_id = S.reactions.loc[S.reactions.REACTION_NAMES == \"EX_toxin_e\", \"EXCH_IND\"].values[0]"
   ]
  },
  {
   "cell_type": "code",
   "execution_count": 23,
   "metadata": {},
   "outputs": [
    {
     "name": "stderr",
     "output_type": "stream",
     "text": [
      "/opt/miniconda3/lib/python3.8/site-packages/cometspy/model.py:232: FutureWarning: The frame.append method is deprecated and will be removed from pandas in a future version. Use pandas.concat instead.\n",
      "  self.signals = self.signals.append(new_row, ignore_index=True)\n"
     ]
    },
    {
     "data": {
      "text/html": [
       "<div>\n",
       "<style scoped>\n",
       "    .dataframe tbody tr th:only-of-type {\n",
       "        vertical-align: middle;\n",
       "    }\n",
       "\n",
       "    .dataframe tbody tr th {\n",
       "        vertical-align: top;\n",
       "    }\n",
       "\n",
       "    .dataframe thead th {\n",
       "        text-align: right;\n",
       "    }\n",
       "</style>\n",
       "<table border=\"1\" class=\"dataframe\">\n",
       "  <thead>\n",
       "    <tr style=\"text-align: right;\">\n",
       "      <th></th>\n",
       "      <th>REACTION_NUMBER</th>\n",
       "      <th>EXCH_IND</th>\n",
       "      <th>BOUND</th>\n",
       "      <th>FUNCTION</th>\n",
       "      <th>PARAMETERS</th>\n",
       "      <th>REACTION_NAMES</th>\n",
       "      <th>EXCH</th>\n",
       "    </tr>\n",
       "  </thead>\n",
       "  <tbody>\n",
       "    <tr>\n",
       "      <th>0</th>\n",
       "      <td>3</td>\n",
       "      <td>2</td>\n",
       "      <td>ub</td>\n",
       "      <td>bounded_linear</td>\n",
       "      <td>[0.75, 0.0, -0.75, 15]</td>\n",
       "      <td>Biomass</td>\n",
       "      <td>toxin_e</td>\n",
       "    </tr>\n",
       "  </tbody>\n",
       "</table>\n",
       "</div>"
      ],
      "text/plain": [
       "  REACTION_NUMBER EXCH_IND BOUND        FUNCTION              PARAMETERS  \\\n",
       "0               3        2    ub  bounded_linear  [0.75, 0.0, -0.75, 15]   \n",
       "\n",
       "  REACTION_NAMES     EXCH  \n",
       "0        Biomass  toxin_e  "
      ]
     },
     "execution_count": 23,
     "metadata": {},
     "output_type": "execute_result"
    }
   ],
   "source": [
    "gr_absense_of_toxin = growth_rate\n",
    "toxin_conc_where_effect_starts = 0.\n",
    "slope_of_toxin_effect = -growth_rate\n",
    "toxin_conc_where_effect_saturates = 15\n",
    "S.add_signal(biomass_id, toxin_exch_id, 'ub', 'bounded_linear', \n",
    "             parms = [gr_absense_of_toxin, \n",
    "                      toxin_conc_where_effect_starts, \n",
    "                      slope_of_toxin_effect,\n",
    "                     toxin_conc_where_effect_saturates])\n",
    "S.signals"
   ]
  },
  {
   "cell_type": "markdown",
   "metadata": {},
   "source": [
    "# First lets do a well-mixed simulation."
   ]
  },
  {
   "cell_type": "code",
   "execution_count": 24,
   "metadata": {},
   "outputs": [],
   "source": [
    "S.initial_pop = [0, 0, 1.e-10]\n",
    "R.initial_pop = [0, 0, 1.e-10]\n",
    "P.initial_pop = [0, 0, 1.e-10]\n",
    "\n",
    "l = c.layout([P, R, S])\n",
    "l.set_specific_metabolite(\"carbon_e\", 4.e-7)\n",
    "\n",
    "p = c.params()\n",
    "p.set_param(\"defaultVmax\", 1.)\n",
    "p.set_param(\"defaultKm\", 0.000001) \n",
    "p.set_param('maxCycles', 300)\n",
    "p.set_param('timeStep', 0.1)\n",
    "p.set_param('spaceWidth', 0.02) # i.e. 2cm x 2cm\n",
    "p.set_param('writeMediaLog', True)\n",
    "p.set_param('MediaLogRate', 1)\n",
    "p.set_param('writeFluxLog', True)\n",
    "p.set_param('FluxLogRate', 1)\n",
    "p.set_param(\"totalBiomassLogRate\", 1)"
   ]
  },
  {
   "cell_type": "code",
   "execution_count": 25,
   "metadata": {},
   "outputs": [],
   "source": [
    "sim = c.comets(l, p)"
   ]
  },
  {
   "cell_type": "code",
   "execution_count": 26,
   "metadata": {},
   "outputs": [
    {
     "name": "stdout",
     "output_type": "stream",
     "text": [
      "\n",
      "Running COMETS simulation ...\n",
      "\n",
      "Debug Here ...\n",
      "Done!\n"
     ]
    }
   ],
   "source": [
    "sim.run()"
   ]
  },
  {
   "cell_type": "code",
   "execution_count": 27,
   "metadata": {},
   "outputs": [
    {
     "data": {
      "text/html": [
       "<div>\n",
       "<style scoped>\n",
       "    .dataframe tbody tr th:only-of-type {\n",
       "        vertical-align: middle;\n",
       "    }\n",
       "\n",
       "    .dataframe tbody tr th {\n",
       "        vertical-align: top;\n",
       "    }\n",
       "\n",
       "    .dataframe thead th {\n",
       "        text-align: right;\n",
       "    }\n",
       "</style>\n",
       "<table border=\"1\" class=\"dataframe\">\n",
       "  <thead>\n",
       "    <tr style=\"text-align: right;\">\n",
       "      <th></th>\n",
       "      <th>cycle</th>\n",
       "      <th>producer</th>\n",
       "      <th>resistant</th>\n",
       "      <th>susceptible</th>\n",
       "    </tr>\n",
       "  </thead>\n",
       "  <tbody>\n",
       "    <tr>\n",
       "      <th>0</th>\n",
       "      <td>0</td>\n",
       "      <td>1.000000e-10</td>\n",
       "      <td>1.000000e-10</td>\n",
       "      <td>1.000000e-10</td>\n",
       "    </tr>\n",
       "    <tr>\n",
       "      <th>1</th>\n",
       "      <td>1</td>\n",
       "      <td>1.073529e-10</td>\n",
       "      <td>1.075000e-10</td>\n",
       "      <td>1.075000e-10</td>\n",
       "    </tr>\n",
       "    <tr>\n",
       "      <th>2</th>\n",
       "      <td>2</td>\n",
       "      <td>1.152465e-10</td>\n",
       "      <td>1.155625e-10</td>\n",
       "      <td>1.155625e-10</td>\n",
       "    </tr>\n",
       "    <tr>\n",
       "      <th>3</th>\n",
       "      <td>3</td>\n",
       "      <td>1.237206e-10</td>\n",
       "      <td>1.242297e-10</td>\n",
       "      <td>1.242297e-10</td>\n",
       "    </tr>\n",
       "    <tr>\n",
       "      <th>4</th>\n",
       "      <td>4</td>\n",
       "      <td>1.328176e-10</td>\n",
       "      <td>1.335469e-10</td>\n",
       "      <td>1.335469e-10</td>\n",
       "    </tr>\n",
       "    <tr>\n",
       "      <th>...</th>\n",
       "      <td>...</td>\n",
       "      <td>...</td>\n",
       "      <td>...</td>\n",
       "      <td>...</td>\n",
       "    </tr>\n",
       "    <tr>\n",
       "      <th>296</th>\n",
       "      <td>296</td>\n",
       "      <td>1.208292e-07</td>\n",
       "      <td>1.385281e-07</td>\n",
       "      <td>1.385281e-07</td>\n",
       "    </tr>\n",
       "    <tr>\n",
       "      <th>297</th>\n",
       "      <td>297</td>\n",
       "      <td>1.208292e-07</td>\n",
       "      <td>1.385281e-07</td>\n",
       "      <td>1.385281e-07</td>\n",
       "    </tr>\n",
       "    <tr>\n",
       "      <th>298</th>\n",
       "      <td>298</td>\n",
       "      <td>1.208292e-07</td>\n",
       "      <td>1.385281e-07</td>\n",
       "      <td>1.385281e-07</td>\n",
       "    </tr>\n",
       "    <tr>\n",
       "      <th>299</th>\n",
       "      <td>299</td>\n",
       "      <td>1.208292e-07</td>\n",
       "      <td>1.385281e-07</td>\n",
       "      <td>1.385281e-07</td>\n",
       "    </tr>\n",
       "    <tr>\n",
       "      <th>300</th>\n",
       "      <td>300</td>\n",
       "      <td>1.208292e-07</td>\n",
       "      <td>1.385281e-07</td>\n",
       "      <td>1.385281e-07</td>\n",
       "    </tr>\n",
       "  </tbody>\n",
       "</table>\n",
       "<p>301 rows × 4 columns</p>\n",
       "</div>"
      ],
      "text/plain": [
       "     cycle      producer     resistant   susceptible\n",
       "0        0  1.000000e-10  1.000000e-10  1.000000e-10\n",
       "1        1  1.073529e-10  1.075000e-10  1.075000e-10\n",
       "2        2  1.152465e-10  1.155625e-10  1.155625e-10\n",
       "3        3  1.237206e-10  1.242297e-10  1.242297e-10\n",
       "4        4  1.328176e-10  1.335469e-10  1.335469e-10\n",
       "..     ...           ...           ...           ...\n",
       "296    296  1.208292e-07  1.385281e-07  1.385281e-07\n",
       "297    297  1.208292e-07  1.385281e-07  1.385281e-07\n",
       "298    298  1.208292e-07  1.385281e-07  1.385281e-07\n",
       "299    299  1.208292e-07  1.385281e-07  1.385281e-07\n",
       "300    300  1.208292e-07  1.385281e-07  1.385281e-07\n",
       "\n",
       "[301 rows x 4 columns]"
      ]
     },
     "execution_count": 27,
     "metadata": {},
     "output_type": "execute_result"
    }
   ],
   "source": [
    "sim.total_biomass"
   ]
  },
  {
   "cell_type": "code",
   "execution_count": 28,
   "metadata": {},
   "outputs": [],
   "source": [
    "fifteen = sim.total_biomass"
   ]
  },
  {
   "cell_type": "code",
   "execution_count": 18,
   "metadata": {},
   "outputs": [],
   "source": [
    "one = sim.total_biomass"
   ]
  },
  {
   "cell_type": "code",
   "execution_count": 29,
   "metadata": {},
   "outputs": [
    {
     "data": {
      "text/html": [
       "<div>\n",
       "<style scoped>\n",
       "    .dataframe tbody tr th:only-of-type {\n",
       "        vertical-align: middle;\n",
       "    }\n",
       "\n",
       "    .dataframe tbody tr th {\n",
       "        vertical-align: top;\n",
       "    }\n",
       "\n",
       "    .dataframe thead th {\n",
       "        text-align: right;\n",
       "    }\n",
       "</style>\n",
       "<table border=\"1\" class=\"dataframe\">\n",
       "  <thead>\n",
       "    <tr style=\"text-align: right;\">\n",
       "      <th></th>\n",
       "      <th>cycle</th>\n",
       "      <th>producer</th>\n",
       "      <th>resistant</th>\n",
       "      <th>susceptible</th>\n",
       "    </tr>\n",
       "  </thead>\n",
       "  <tbody>\n",
       "    <tr>\n",
       "      <th>0</th>\n",
       "      <td>0</td>\n",
       "      <td>1.000000e-10</td>\n",
       "      <td>1.000000e-10</td>\n",
       "      <td>1.000000e-10</td>\n",
       "    </tr>\n",
       "    <tr>\n",
       "      <th>1</th>\n",
       "      <td>1</td>\n",
       "      <td>1.073529e-10</td>\n",
       "      <td>1.075000e-10</td>\n",
       "      <td>1.075000e-10</td>\n",
       "    </tr>\n",
       "    <tr>\n",
       "      <th>2</th>\n",
       "      <td>2</td>\n",
       "      <td>1.152465e-10</td>\n",
       "      <td>1.155625e-10</td>\n",
       "      <td>1.155625e-10</td>\n",
       "    </tr>\n",
       "    <tr>\n",
       "      <th>3</th>\n",
       "      <td>3</td>\n",
       "      <td>1.237206e-10</td>\n",
       "      <td>1.242297e-10</td>\n",
       "      <td>1.242297e-10</td>\n",
       "    </tr>\n",
       "    <tr>\n",
       "      <th>4</th>\n",
       "      <td>4</td>\n",
       "      <td>1.328176e-10</td>\n",
       "      <td>1.335469e-10</td>\n",
       "      <td>1.335469e-10</td>\n",
       "    </tr>\n",
       "    <tr>\n",
       "      <th>...</th>\n",
       "      <td>...</td>\n",
       "      <td>...</td>\n",
       "      <td>...</td>\n",
       "      <td>...</td>\n",
       "    </tr>\n",
       "    <tr>\n",
       "      <th>296</th>\n",
       "      <td>296</td>\n",
       "      <td>1.208292e-07</td>\n",
       "      <td>1.385281e-07</td>\n",
       "      <td>1.385281e-07</td>\n",
       "    </tr>\n",
       "    <tr>\n",
       "      <th>297</th>\n",
       "      <td>297</td>\n",
       "      <td>1.208292e-07</td>\n",
       "      <td>1.385281e-07</td>\n",
       "      <td>1.385281e-07</td>\n",
       "    </tr>\n",
       "    <tr>\n",
       "      <th>298</th>\n",
       "      <td>298</td>\n",
       "      <td>1.208292e-07</td>\n",
       "      <td>1.385281e-07</td>\n",
       "      <td>1.385281e-07</td>\n",
       "    </tr>\n",
       "    <tr>\n",
       "      <th>299</th>\n",
       "      <td>299</td>\n",
       "      <td>1.208292e-07</td>\n",
       "      <td>1.385281e-07</td>\n",
       "      <td>1.385281e-07</td>\n",
       "    </tr>\n",
       "    <tr>\n",
       "      <th>300</th>\n",
       "      <td>300</td>\n",
       "      <td>1.208292e-07</td>\n",
       "      <td>1.385281e-07</td>\n",
       "      <td>1.385281e-07</td>\n",
       "    </tr>\n",
       "  </tbody>\n",
       "</table>\n",
       "<p>301 rows × 4 columns</p>\n",
       "</div>"
      ],
      "text/plain": [
       "     cycle      producer     resistant   susceptible\n",
       "0        0  1.000000e-10  1.000000e-10  1.000000e-10\n",
       "1        1  1.073529e-10  1.075000e-10  1.075000e-10\n",
       "2        2  1.152465e-10  1.155625e-10  1.155625e-10\n",
       "3        3  1.237206e-10  1.242297e-10  1.242297e-10\n",
       "4        4  1.328176e-10  1.335469e-10  1.335469e-10\n",
       "..     ...           ...           ...           ...\n",
       "296    296  1.208292e-07  1.385281e-07  1.385281e-07\n",
       "297    297  1.208292e-07  1.385281e-07  1.385281e-07\n",
       "298    298  1.208292e-07  1.385281e-07  1.385281e-07\n",
       "299    299  1.208292e-07  1.385281e-07  1.385281e-07\n",
       "300    300  1.208292e-07  1.385281e-07  1.385281e-07\n",
       "\n",
       "[301 rows x 4 columns]"
      ]
     },
     "execution_count": 29,
     "metadata": {},
     "output_type": "execute_result"
    }
   ],
   "source": [
    "one"
   ]
  },
  {
   "cell_type": "markdown",
   "metadata": {},
   "source": [
    "# Notice that susceptible ends up lower than resistant, but higher than producer. This all makes sense: producer has a cost of making the toxin (2% growth rate), resistant has no cost, and susceptible slowly decreases in growth rate."
   ]
  },
  {
   "cell_type": "code",
   "execution_count": 21,
   "metadata": {},
   "outputs": [
    {
     "ename": "ImportError",
     "evalue": "matplotlib is required for plotting when the default backend \"matplotlib\" is selected.",
     "output_type": "error",
     "traceback": [
      "\u001b[0;31m---------------------------------------------------------------------------\u001b[0m",
      "\u001b[0;31mImportError\u001b[0m                               Traceback (most recent call last)",
      "Cell \u001b[0;32mIn[21], line 1\u001b[0m\n\u001b[0;32m----> 1\u001b[0m \u001b[43msim\u001b[49m\u001b[38;5;241;43m.\u001b[39;49m\u001b[43mtotal_biomass\u001b[49m\u001b[38;5;241;43m.\u001b[39;49m\u001b[43mplot\u001b[49m\u001b[43m(\u001b[49m\u001b[43mx\u001b[49m\u001b[43m \u001b[49m\u001b[38;5;241;43m=\u001b[39;49m\u001b[43m \u001b[49m\u001b[38;5;124;43m\"\u001b[39;49m\u001b[38;5;124;43mcycle\u001b[39;49m\u001b[38;5;124;43m\"\u001b[39;49m\u001b[43m)\u001b[49m\n",
      "File \u001b[0;32m/opt/miniconda3/lib/python3.8/site-packages/pandas/plotting/_core.py:920\u001b[0m, in \u001b[0;36mPlotAccessor.__call__\u001b[0;34m(self, *args, **kwargs)\u001b[0m\n\u001b[1;32m    919\u001b[0m \u001b[38;5;28;01mdef\u001b[39;00m \u001b[38;5;21m__call__\u001b[39m(\u001b[38;5;28mself\u001b[39m, \u001b[38;5;241m*\u001b[39margs, \u001b[38;5;241m*\u001b[39m\u001b[38;5;241m*\u001b[39mkwargs):\n\u001b[0;32m--> 920\u001b[0m     plot_backend \u001b[38;5;241m=\u001b[39m \u001b[43m_get_plot_backend\u001b[49m\u001b[43m(\u001b[49m\u001b[43mkwargs\u001b[49m\u001b[38;5;241;43m.\u001b[39;49m\u001b[43mpop\u001b[49m\u001b[43m(\u001b[49m\u001b[38;5;124;43m\"\u001b[39;49m\u001b[38;5;124;43mbackend\u001b[39;49m\u001b[38;5;124;43m\"\u001b[39;49m\u001b[43m,\u001b[49m\u001b[43m \u001b[49m\u001b[38;5;28;43;01mNone\u001b[39;49;00m\u001b[43m)\u001b[49m\u001b[43m)\u001b[49m\n\u001b[1;32m    922\u001b[0m     x, y, kind, kwargs \u001b[38;5;241m=\u001b[39m \u001b[38;5;28mself\u001b[39m\u001b[38;5;241m.\u001b[39m_get_call_args(\n\u001b[1;32m    923\u001b[0m         plot_backend\u001b[38;5;241m.\u001b[39m\u001b[38;5;18m__name__\u001b[39m, \u001b[38;5;28mself\u001b[39m\u001b[38;5;241m.\u001b[39m_parent, args, kwargs\n\u001b[1;32m    924\u001b[0m     )\n\u001b[1;32m    926\u001b[0m     kind \u001b[38;5;241m=\u001b[39m \u001b[38;5;28mself\u001b[39m\u001b[38;5;241m.\u001b[39m_kind_aliases\u001b[38;5;241m.\u001b[39mget(kind, kind)\n",
      "File \u001b[0;32m/opt/miniconda3/lib/python3.8/site-packages/pandas/plotting/_core.py:1886\u001b[0m, in \u001b[0;36m_get_plot_backend\u001b[0;34m(backend)\u001b[0m\n\u001b[1;32m   1883\u001b[0m \u001b[38;5;28;01mif\u001b[39;00m backend_str \u001b[38;5;129;01min\u001b[39;00m _backends:\n\u001b[1;32m   1884\u001b[0m     \u001b[38;5;28;01mreturn\u001b[39;00m _backends[backend_str]\n\u001b[0;32m-> 1886\u001b[0m module \u001b[38;5;241m=\u001b[39m \u001b[43m_load_backend\u001b[49m\u001b[43m(\u001b[49m\u001b[43mbackend_str\u001b[49m\u001b[43m)\u001b[49m\n\u001b[1;32m   1887\u001b[0m _backends[backend_str] \u001b[38;5;241m=\u001b[39m module\n\u001b[1;32m   1888\u001b[0m \u001b[38;5;28;01mreturn\u001b[39;00m module\n",
      "File \u001b[0;32m/opt/miniconda3/lib/python3.8/site-packages/pandas/plotting/_core.py:1817\u001b[0m, in \u001b[0;36m_load_backend\u001b[0;34m(backend)\u001b[0m\n\u001b[1;32m   1815\u001b[0m         module \u001b[38;5;241m=\u001b[39m importlib\u001b[38;5;241m.\u001b[39mimport_module(\u001b[38;5;124m\"\u001b[39m\u001b[38;5;124mpandas.plotting._matplotlib\u001b[39m\u001b[38;5;124m\"\u001b[39m)\n\u001b[1;32m   1816\u001b[0m     \u001b[38;5;28;01mexcept\u001b[39;00m \u001b[38;5;167;01mImportError\u001b[39;00m:\n\u001b[0;32m-> 1817\u001b[0m         \u001b[38;5;28;01mraise\u001b[39;00m \u001b[38;5;167;01mImportError\u001b[39;00m(\n\u001b[1;32m   1818\u001b[0m             \u001b[38;5;124m\"\u001b[39m\u001b[38;5;124mmatplotlib is required for plotting when the \u001b[39m\u001b[38;5;124m\"\u001b[39m\n\u001b[1;32m   1819\u001b[0m             \u001b[38;5;124m'\u001b[39m\u001b[38;5;124mdefault backend \u001b[39m\u001b[38;5;124m\"\u001b[39m\u001b[38;5;124mmatplotlib\u001b[39m\u001b[38;5;124m\"\u001b[39m\u001b[38;5;124m is selected.\u001b[39m\u001b[38;5;124m'\u001b[39m\n\u001b[1;32m   1820\u001b[0m         ) \u001b[38;5;28;01mfrom\u001b[39;00m \u001b[38;5;28;01mNone\u001b[39;00m\n\u001b[1;32m   1821\u001b[0m     \u001b[38;5;28;01mreturn\u001b[39;00m module\n\u001b[1;32m   1823\u001b[0m found_backend \u001b[38;5;241m=\u001b[39m \u001b[38;5;28;01mFalse\u001b[39;00m\n",
      "\u001b[0;31mImportError\u001b[0m: matplotlib is required for plotting when the default backend \"matplotlib\" is selected."
     ]
    }
   ],
   "source": [
    "sim.total_biomass.plot(x = \"cycle\")"
   ]
  },
  {
   "cell_type": "code",
   "execution_count": 26,
   "metadata": {},
   "outputs": [
    {
     "data": {
      "text/html": [
       "<div>\n",
       "<style scoped>\n",
       "    .dataframe tbody tr th:only-of-type {\n",
       "        vertical-align: middle;\n",
       "    }\n",
       "\n",
       "    .dataframe tbody tr th {\n",
       "        vertical-align: top;\n",
       "    }\n",
       "\n",
       "    .dataframe thead th {\n",
       "        text-align: right;\n",
       "    }\n",
       "</style>\n",
       "<table border=\"1\" class=\"dataframe\">\n",
       "  <thead>\n",
       "    <tr style=\"text-align: right;\">\n",
       "      <th></th>\n",
       "      <th>cycle</th>\n",
       "      <th>producer</th>\n",
       "      <th>resistant</th>\n",
       "      <th>susceptible</th>\n",
       "    </tr>\n",
       "  </thead>\n",
       "  <tbody>\n",
       "    <tr>\n",
       "      <th>0</th>\n",
       "      <td>0</td>\n",
       "      <td>1.000000e-10</td>\n",
       "      <td>1.000000e-10</td>\n",
       "      <td>1.000000e-10</td>\n",
       "    </tr>\n",
       "    <tr>\n",
       "      <th>1</th>\n",
       "      <td>1</td>\n",
       "      <td>1.073529e-10</td>\n",
       "      <td>1.075000e-10</td>\n",
       "      <td>1.075000e-10</td>\n",
       "    </tr>\n",
       "    <tr>\n",
       "      <th>2</th>\n",
       "      <td>2</td>\n",
       "      <td>1.152465e-10</td>\n",
       "      <td>1.155625e-10</td>\n",
       "      <td>1.155625e-10</td>\n",
       "    </tr>\n",
       "    <tr>\n",
       "      <th>3</th>\n",
       "      <td>3</td>\n",
       "      <td>1.237206e-10</td>\n",
       "      <td>1.242297e-10</td>\n",
       "      <td>1.242297e-10</td>\n",
       "    </tr>\n",
       "    <tr>\n",
       "      <th>4</th>\n",
       "      <td>4</td>\n",
       "      <td>1.328176e-10</td>\n",
       "      <td>1.335469e-10</td>\n",
       "      <td>1.335469e-10</td>\n",
       "    </tr>\n",
       "    <tr>\n",
       "      <th>...</th>\n",
       "      <td>...</td>\n",
       "      <td>...</td>\n",
       "      <td>...</td>\n",
       "      <td>...</td>\n",
       "    </tr>\n",
       "    <tr>\n",
       "      <th>296</th>\n",
       "      <td>296</td>\n",
       "      <td>1.208292e-07</td>\n",
       "      <td>1.385281e-07</td>\n",
       "      <td>1.385281e-07</td>\n",
       "    </tr>\n",
       "    <tr>\n",
       "      <th>297</th>\n",
       "      <td>297</td>\n",
       "      <td>1.208292e-07</td>\n",
       "      <td>1.385281e-07</td>\n",
       "      <td>1.385281e-07</td>\n",
       "    </tr>\n",
       "    <tr>\n",
       "      <th>298</th>\n",
       "      <td>298</td>\n",
       "      <td>1.208292e-07</td>\n",
       "      <td>1.385281e-07</td>\n",
       "      <td>1.385281e-07</td>\n",
       "    </tr>\n",
       "    <tr>\n",
       "      <th>299</th>\n",
       "      <td>299</td>\n",
       "      <td>1.208292e-07</td>\n",
       "      <td>1.385281e-07</td>\n",
       "      <td>1.385281e-07</td>\n",
       "    </tr>\n",
       "    <tr>\n",
       "      <th>300</th>\n",
       "      <td>300</td>\n",
       "      <td>1.208292e-07</td>\n",
       "      <td>1.385281e-07</td>\n",
       "      <td>1.385281e-07</td>\n",
       "    </tr>\n",
       "  </tbody>\n",
       "</table>\n",
       "<p>301 rows × 4 columns</p>\n",
       "</div>"
      ],
      "text/plain": [
       "     cycle      producer     resistant   susceptible\n",
       "0        0  1.000000e-10  1.000000e-10  1.000000e-10\n",
       "1        1  1.073529e-10  1.075000e-10  1.075000e-10\n",
       "2        2  1.152465e-10  1.155625e-10  1.155625e-10\n",
       "3        3  1.237206e-10  1.242297e-10  1.242297e-10\n",
       "4        4  1.328176e-10  1.335469e-10  1.335469e-10\n",
       "..     ...           ...           ...           ...\n",
       "296    296  1.208292e-07  1.385281e-07  1.385281e-07\n",
       "297    297  1.208292e-07  1.385281e-07  1.385281e-07\n",
       "298    298  1.208292e-07  1.385281e-07  1.385281e-07\n",
       "299    299  1.208292e-07  1.385281e-07  1.385281e-07\n",
       "300    300  1.208292e-07  1.385281e-07  1.385281e-07\n",
       "\n",
       "[301 rows x 4 columns]"
      ]
     },
     "execution_count": 26,
     "metadata": {},
     "output_type": "execute_result"
    }
   ],
   "source": [
    "sim.total_biomass"
   ]
  },
  {
   "cell_type": "code",
   "execution_count": 15,
   "metadata": {},
   "outputs": [
    {
     "data": {
      "text/plain": [
       "(0.7, 0.8)"
      ]
     },
     "execution_count": 15,
     "metadata": {},
     "output_type": "execute_result"
    },
    {
     "data": {
      "image/png": "[encoded data removed]",
      "text/plain": [
       "<Figure size 640x480 with 1 Axes>"
      ]
     },
     "metadata": {},
     "output_type": "display_data"
    }
   ],
   "source": [
    "ax = sim.fluxes_by_species[\"susceptible\"].plot(x = \"cycle\", y = \"Biomass\", label = \"susceptible growth rate\")\n",
    "sim.fluxes_by_species[\"resistant\"].plot(x = \"cycle\", y = \"Biomass\", \n",
    "                                        ax = ax, label = \"resistant growth rate\")\n",
    "sim.fluxes_by_species[\"producer\"].plot(x = \"cycle\", y = \"Biomass\", \n",
    "                                        ax = ax, label = \"producer growth rate\")\n",
    "ax.set_ylim(0.7,0.8)"
   ]
  },
  {
   "cell_type": "markdown",
   "metadata": {},
   "source": [
    "# the things which will affect \"who wins\" in these sims are the toxin cost, the toxin production rate (by default it is 1mmol toxin / gram growth), the total amount of carbon, the initial pop, and the spacewidth. Spacewidth is true even in well-mixed because it influences the concentration of the toxin (mmol / spaceWidth^3)--it is in fact a critical value."
   ]
  },
  {
   "cell_type": "code",
   "execution_count": 47,
   "metadata": {},
   "outputs": [
    {
     "name": "stdout",
     "output_type": "stream",
     "text": [
      "\n",
      "Running COMETS simulation ...\n",
      "\n",
      "Debug Here ...\n",
      "Done!\n"
     ]
    }
   ],
   "source": [
    "S.initial_pop = [0, 0, 1.e-10]\n",
    "R.initial_pop = [0, 0, 1.e-10]\n",
    "P.initial_pop = [0, 0, 1.e-10]\n",
    "\n",
    "l = c.layout([P, R, S])\n",
    "l.set_specific_metabolite(\"carbon_e\", 4.e-7)\n",
    "\n",
    "p = c.params()\n",
    "p.set_param(\"defaultVmax\", 1.)\n",
    "p.set_param(\"defaultKm\", 0.000001) \n",
    "p.set_param('maxCycles', 300)\n",
    "p.set_param('timeStep', 0.1)\n",
    "p.set_param('spaceWidth', 0.008) # smaller!\n",
    "p.set_param('writeMediaLog', True)\n",
    "p.set_param('MediaLogRate', 1)\n",
    "p.set_param('writeFluxLog', True)\n",
    "p.set_param('FluxLogRate', 1)\n",
    "p.set_param(\"totalBiomassLogRate\", 1)\n",
    "\n",
    "sim = c.comets(l, p)\n",
    "#sim.VERSION = 'comets_multitoxin.jar'\n",
    "#sim.set_classpath('bin', '/home/jeremy/Dropbox/work_related/harcombe_lab/segre/jars/comets_multitoxin.jar')\n",
    "sim.run()"
   ]
  },
  {
   "cell_type": "code",
   "execution_count": 48,
   "metadata": {},
   "outputs": [
    {
     "data": {
      "text/html": [
       "<div>\n",
       "<style scoped>\n",
       "    .dataframe tbody tr th:only-of-type {\n",
       "        vertical-align: middle;\n",
       "    }\n",
       "\n",
       "    .dataframe tbody tr th {\n",
       "        vertical-align: top;\n",
       "    }\n",
       "\n",
       "    .dataframe thead th {\n",
       "        text-align: right;\n",
       "    }\n",
       "</style>\n",
       "<table border=\"1\" class=\"dataframe\">\n",
       "  <thead>\n",
       "    <tr style=\"text-align: right;\">\n",
       "      <th></th>\n",
       "      <th>cycle</th>\n",
       "      <th>producer</th>\n",
       "      <th>resistant</th>\n",
       "      <th>susceptible</th>\n",
       "    </tr>\n",
       "  </thead>\n",
       "  <tbody>\n",
       "    <tr>\n",
       "      <th>0</th>\n",
       "      <td>0</td>\n",
       "      <td>1.000000e-10</td>\n",
       "      <td>1.000000e-10</td>\n",
       "      <td>1.000000e-10</td>\n",
       "    </tr>\n",
       "    <tr>\n",
       "      <th>1</th>\n",
       "      <td>1</td>\n",
       "      <td>1.073529e-10</td>\n",
       "      <td>1.075000e-10</td>\n",
       "      <td>1.075000e-10</td>\n",
       "    </tr>\n",
       "    <tr>\n",
       "      <th>2</th>\n",
       "      <td>2</td>\n",
       "      <td>1.152465e-10</td>\n",
       "      <td>1.155625e-10</td>\n",
       "      <td>1.155625e-10</td>\n",
       "    </tr>\n",
       "    <tr>\n",
       "      <th>3</th>\n",
       "      <td>3</td>\n",
       "      <td>1.237206e-10</td>\n",
       "      <td>1.242297e-10</td>\n",
       "      <td>1.242297e-10</td>\n",
       "    </tr>\n",
       "    <tr>\n",
       "      <th>4</th>\n",
       "      <td>4</td>\n",
       "      <td>1.328176e-10</td>\n",
       "      <td>1.335469e-10</td>\n",
       "      <td>1.335469e-10</td>\n",
       "    </tr>\n",
       "    <tr>\n",
       "      <th>...</th>\n",
       "      <td>...</td>\n",
       "      <td>...</td>\n",
       "      <td>...</td>\n",
       "      <td>...</td>\n",
       "    </tr>\n",
       "    <tr>\n",
       "      <th>296</th>\n",
       "      <td>296</td>\n",
       "      <td>1.208292e-07</td>\n",
       "      <td>1.385281e-07</td>\n",
       "      <td>1.385281e-07</td>\n",
       "    </tr>\n",
       "    <tr>\n",
       "      <th>297</th>\n",
       "      <td>297</td>\n",
       "      <td>1.208292e-07</td>\n",
       "      <td>1.385281e-07</td>\n",
       "      <td>1.385281e-07</td>\n",
       "    </tr>\n",
       "    <tr>\n",
       "      <th>298</th>\n",
       "      <td>298</td>\n",
       "      <td>1.208292e-07</td>\n",
       "      <td>1.385281e-07</td>\n",
       "      <td>1.385281e-07</td>\n",
       "    </tr>\n",
       "    <tr>\n",
       "      <th>299</th>\n",
       "      <td>299</td>\n",
       "      <td>1.208292e-07</td>\n",
       "      <td>1.385281e-07</td>\n",
       "      <td>1.385281e-07</td>\n",
       "    </tr>\n",
       "    <tr>\n",
       "      <th>300</th>\n",
       "      <td>300</td>\n",
       "      <td>1.208292e-07</td>\n",
       "      <td>1.385281e-07</td>\n",
       "      <td>1.385281e-07</td>\n",
       "    </tr>\n",
       "  </tbody>\n",
       "</table>\n",
       "<p>301 rows × 4 columns</p>\n",
       "</div>"
      ],
      "text/plain": [
       "     cycle      producer     resistant   susceptible\n",
       "0        0  1.000000e-10  1.000000e-10  1.000000e-10\n",
       "1        1  1.073529e-10  1.075000e-10  1.075000e-10\n",
       "2        2  1.152465e-10  1.155625e-10  1.155625e-10\n",
       "3        3  1.237206e-10  1.242297e-10  1.242297e-10\n",
       "4        4  1.328176e-10  1.335469e-10  1.335469e-10\n",
       "..     ...           ...           ...           ...\n",
       "296    296  1.208292e-07  1.385281e-07  1.385281e-07\n",
       "297    297  1.208292e-07  1.385281e-07  1.385281e-07\n",
       "298    298  1.208292e-07  1.385281e-07  1.385281e-07\n",
       "299    299  1.208292e-07  1.385281e-07  1.385281e-07\n",
       "300    300  1.208292e-07  1.385281e-07  1.385281e-07\n",
       "\n",
       "[301 rows x 4 columns]"
      ]
     },
     "execution_count": 48,
     "metadata": {},
     "output_type": "execute_result"
    }
   ],
   "source": [
    "sim.total_biomass"
   ]
  },
  {
   "cell_type": "markdown",
   "metadata": {},
   "source": [
    "# Now do it in a spatial world. Basically the same as we've done before. I'm doing a quick random locs func that is a bit simpler from that in cometspy.util.\n",
    "\n",
    "The deterministic simulations had 1 producer, 1 resistant, and 4 susceptibles. Let's have 30 founder colonies and use this ratio. "
   ]
  },
  {
   "cell_type": "code",
   "execution_count": 49,
   "metadata": {},
   "outputs": [],
   "source": [
    "def pick_unique_locations(width, height, n, edge_space = 0):\n",
    "    locs = []\n",
    "    while len(locs) < n:\n",
    "        loc = (random.randrange(edge_space, width - edge_space),\n",
    "               random.randrange(edge_space, height - edge_space))\n",
    "        if loc not in locs:\n",
    "            locs.append(loc)\n",
    "    return(locs)\n",
    "\n",
    "grid_size =[30, 30] # this was 100x100 in the actual sims!\n",
    "\n",
    "locs = pick_unique_locations(grid_size[0], grid_size[1], 30, 3)\n",
    "producer_locs = locs[0:5]\n",
    "resistant_locs = locs[5:10]\n",
    "susceptible_locs = locs[10:]"
   ]
  },
  {
   "cell_type": "markdown",
   "metadata": {},
   "source": [
    "## If you want to save the initial locations (useful for doing spatially-explicit analyses later), here's one approach"
   ]
  },
  {
   "cell_type": "code",
   "execution_count": 50,
   "metadata": {},
   "outputs": [
    {
     "name": "stderr",
     "output_type": "stream",
     "text": [
      "/var/folders/p3/mdw541490y5d3v5xf0s25ttc0000gn/T/ipykernel_19829/1034253369.py:11: FutureWarning: The frame.append method is deprecated and will be removed from pandas in a future version. Use pandas.concat instead.\n",
      "  spatial_data = spatial_data.append(producer_data,\n"
     ]
    },
    {
     "data": {
      "text/html": [
       "<div>\n",
       "<style scoped>\n",
       "    .dataframe tbody tr th:only-of-type {\n",
       "        vertical-align: middle;\n",
       "    }\n",
       "\n",
       "    .dataframe tbody tr th {\n",
       "        vertical-align: top;\n",
       "    }\n",
       "\n",
       "    .dataframe thead th {\n",
       "        text-align: right;\n",
       "    }\n",
       "</style>\n",
       "<table border=\"1\" class=\"dataframe\">\n",
       "  <thead>\n",
       "    <tr style=\"text-align: right;\">\n",
       "      <th></th>\n",
       "      <th>strain</th>\n",
       "      <th>x</th>\n",
       "      <th>y</th>\n",
       "    </tr>\n",
       "  </thead>\n",
       "  <tbody>\n",
       "    <tr>\n",
       "      <th>0</th>\n",
       "      <td>producer</td>\n",
       "      <td>22</td>\n",
       "      <td>23</td>\n",
       "    </tr>\n",
       "    <tr>\n",
       "      <th>1</th>\n",
       "      <td>producer</td>\n",
       "      <td>18</td>\n",
       "      <td>22</td>\n",
       "    </tr>\n",
       "    <tr>\n",
       "      <th>2</th>\n",
       "      <td>producer</td>\n",
       "      <td>8</td>\n",
       "      <td>21</td>\n",
       "    </tr>\n",
       "    <tr>\n",
       "      <th>3</th>\n",
       "      <td>producer</td>\n",
       "      <td>7</td>\n",
       "      <td>18</td>\n",
       "    </tr>\n",
       "    <tr>\n",
       "      <th>4</th>\n",
       "      <td>producer</td>\n",
       "      <td>8</td>\n",
       "      <td>18</td>\n",
       "    </tr>\n",
       "    <tr>\n",
       "      <th>5</th>\n",
       "      <td>resistant</td>\n",
       "      <td>16</td>\n",
       "      <td>8</td>\n",
       "    </tr>\n",
       "    <tr>\n",
       "      <th>6</th>\n",
       "      <td>resistant</td>\n",
       "      <td>5</td>\n",
       "      <td>15</td>\n",
       "    </tr>\n",
       "    <tr>\n",
       "      <th>7</th>\n",
       "      <td>resistant</td>\n",
       "      <td>6</td>\n",
       "      <td>14</td>\n",
       "    </tr>\n",
       "    <tr>\n",
       "      <th>8</th>\n",
       "      <td>resistant</td>\n",
       "      <td>20</td>\n",
       "      <td>15</td>\n",
       "    </tr>\n",
       "    <tr>\n",
       "      <th>9</th>\n",
       "      <td>resistant</td>\n",
       "      <td>15</td>\n",
       "      <td>16</td>\n",
       "    </tr>\n",
       "    <tr>\n",
       "      <th>10</th>\n",
       "      <td>susceptible</td>\n",
       "      <td>14</td>\n",
       "      <td>19</td>\n",
       "    </tr>\n",
       "  </tbody>\n",
       "</table>\n",
       "</div>"
      ],
      "text/plain": [
       "         strain   x   y\n",
       "0      producer  22  23\n",
       "1      producer  18  22\n",
       "2      producer   8  21\n",
       "3      producer   7  18\n",
       "4      producer   8  18\n",
       "5     resistant  16   8\n",
       "6     resistant   5  15\n",
       "7     resistant   6  14\n",
       "8     resistant  20  15\n",
       "9     resistant  15  16\n",
       "10  susceptible  14  19"
      ]
     },
     "execution_count": 50,
     "metadata": {},
     "output_type": "execute_result"
    }
   ],
   "source": [
    "spatial_data = pd.DataFrame(columns = [\"strain\", \"x\", \"y\"])\n",
    "producer_data = pd.DataFrame({\"strain\" : \"producer\",\n",
    "                             \"x\" : [x[0] for x in producer_locs],\n",
    "                             \"y\" : [x[1] for x in producer_locs]})\n",
    "resistant_data = pd.DataFrame({\"strain\" : \"resistant\",\n",
    "                             \"x\" : [x[0] for x in resistant_locs],\n",
    "                             \"y\" : [x[1] for x in resistant_locs]})\n",
    "susceptible_data = pd.DataFrame({\"strain\" : \"susceptible\",\n",
    "                             \"x\" : [x[0] for x in susceptible_locs],\n",
    "                             \"y\" : [x[1] for x in susceptible_locs]})\n",
    "spatial_data = spatial_data.append(producer_data, \n",
    "                                   ignore_index = True).append(resistant_data, \n",
    "                                                               ignore_index = True).append(susceptible_data, ignore_index = True)\n",
    "# spatial_data.to_csv(\"whatever_you_want_to_call_the_file.csv\")\n",
    "spatial_data.head(11)"
   ]
  },
  {
   "cell_type": "markdown",
   "metadata": {},
   "source": [
    "Note that the timeStep must be pretty small. Note also that we set the toxin_e diffusion constant to 10x lower than the defaultDiffConst. \n",
    "\n",
    "Also, I set the maxCycles to 5, because when doing spatial sims its good to check the run_output to make sure our timeStep was small enough"
   ]
  },
  {
   "cell_type": "code",
   "execution_count": 51,
   "metadata": {},
   "outputs": [
    {
     "name": "stdout",
     "output_type": "stream",
     "text": [
      "\n",
      "Running COMETS simulation ...\n",
      "\n",
      "Debug Here ...\n",
      "Done!\n"
     ]
    }
   ],
   "source": [
    "initial_biomass = 1.e-10\n",
    "S.initial_pop = [[loc[0], loc[1], initial_biomass] for loc in susceptible_locs]\n",
    "P.initial_pop = [[loc[0], loc[1], initial_biomass] for loc in producer_locs]\n",
    "R.initial_pop = [[loc[0], loc[1], initial_biomass] for loc in resistant_locs]\n",
    "\n",
    "l = c.layout([P, R, S])\n",
    "l.grid = grid_size\n",
    "l.set_specific_metabolite(\"carbon_e\", 4.e-7)\n",
    "l.media.loc[l.media.metabolite == \"toxin_e\", \"diff_c\"] = 5.e-7\n",
    "\n",
    "p = c.params()\n",
    "p.set_param(\"defaultVmax\", 1.)\n",
    "p.set_param(\"defaultKm\", 0.000001) \n",
    "p.set_param('maxCycles', 5) #  60*24)\n",
    "p.set_param('timeStep', 1/60) # 1 minute\n",
    "p.set_param('spaceWidth', 0.0025) # smaller!\n",
    "p.set_param(\"defaultDiffConst\", 5.e-6)\n",
    "p.set_param('minSpaceBiomass', 1.e-15)\n",
    "p.set_param('writeMediaLog', True)\n",
    "p.set_param('MediaLogRate', 1)\n",
    "p.set_param('writeFluxLog', True)\n",
    "p.set_param('FluxLogRate', 1)\n",
    "p.set_param(\"totalBiomassLogRate\", 1)\n",
    "p.set_param(\"numDiffPerStep\", 1)\n",
    "\n",
    "sim = c.comets(l, p)\n",
    "#sim.VERSION = 'comets_multitoxin.jar'\n",
    "#sim.set_classpath('bin', '/home/jeremy/Dropbox/work_related/harcombe_lab/segre/jars/comets_multitoxin.jar')\n",
    "sim.run()"
   ]
  },
  {
   "cell_type": "code",
   "execution_count": 52,
   "metadata": {},
   "outputs": [
    {
     "data": {
      "text/html": [
       "<div>\n",
       "<style scoped>\n",
       "    .dataframe tbody tr th:only-of-type {\n",
       "        vertical-align: middle;\n",
       "    }\n",
       "\n",
       "    .dataframe tbody tr th {\n",
       "        vertical-align: top;\n",
       "    }\n",
       "\n",
       "    .dataframe thead th {\n",
       "        text-align: right;\n",
       "    }\n",
       "</style>\n",
       "<table border=\"1\" class=\"dataframe\">\n",
       "  <thead>\n",
       "    <tr style=\"text-align: right;\">\n",
       "      <th></th>\n",
       "      <th>cycle</th>\n",
       "      <th>producer</th>\n",
       "      <th>resistant</th>\n",
       "      <th>susceptible</th>\n",
       "    </tr>\n",
       "  </thead>\n",
       "  <tbody>\n",
       "    <tr>\n",
       "      <th>0</th>\n",
       "      <td>0</td>\n",
       "      <td>5.000000e-10</td>\n",
       "      <td>5.000000e-10</td>\n",
       "      <td>2.000000e-09</td>\n",
       "    </tr>\n",
       "    <tr>\n",
       "      <th>1</th>\n",
       "      <td>1</td>\n",
       "      <td>5.061202e-10</td>\n",
       "      <td>5.062420e-10</td>\n",
       "      <td>2.024979e-09</td>\n",
       "    </tr>\n",
       "    <tr>\n",
       "      <th>2</th>\n",
       "      <td>2</td>\n",
       "      <td>5.123167e-10</td>\n",
       "      <td>5.125610e-10</td>\n",
       "      <td>2.050272e-09</td>\n",
       "    </tr>\n",
       "    <tr>\n",
       "      <th>3</th>\n",
       "      <td>3</td>\n",
       "      <td>5.185723e-10</td>\n",
       "      <td>5.189403e-10</td>\n",
       "      <td>2.075848e-09</td>\n",
       "    </tr>\n",
       "    <tr>\n",
       "      <th>4</th>\n",
       "      <td>4</td>\n",
       "      <td>5.249216e-10</td>\n",
       "      <td>5.254200e-10</td>\n",
       "      <td>2.101783e-09</td>\n",
       "    </tr>\n",
       "    <tr>\n",
       "      <th>5</th>\n",
       "      <td>5</td>\n",
       "      <td>5.313408e-10</td>\n",
       "      <td>5.319703e-10</td>\n",
       "      <td>2.128026e-09</td>\n",
       "    </tr>\n",
       "  </tbody>\n",
       "</table>\n",
       "</div>"
      ],
      "text/plain": [
       "   cycle      producer     resistant   susceptible\n",
       "0      0  5.000000e-10  5.000000e-10  2.000000e-09\n",
       "1      1  5.061202e-10  5.062420e-10  2.024979e-09\n",
       "2      2  5.123167e-10  5.125610e-10  2.050272e-09\n",
       "3      3  5.185723e-10  5.189403e-10  2.075848e-09\n",
       "4      4  5.249216e-10  5.254200e-10  2.101783e-09\n",
       "5      5  5.313408e-10  5.319703e-10  2.128026e-09"
      ]
     },
     "execution_count": 52,
     "metadata": {},
     "output_type": "execute_result"
    }
   ],
   "source": [
    "sim.total_biomass"
   ]
  },
  {
   "cell_type": "code",
   "execution_count": 20,
   "metadata": {},
   "outputs": [
    {
     "name": "stdout",
     "output_type": "stream",
     "text": [
      "-script\n",
      "running script file: /Users/abisesi/Desktop/PhD/Projects/Toxins-Growth-Rate/jmc-scripts/.current_script_0x7f7e43b88df0\n",
      "Current Java version: 20.0.2\n",
      "Parameters file .current_global_0x7f7e43b88df0 loaded.\n",
      "Parameters file .current_package_0x7f7e43b88df0 loaded.\n",
      "Loading layout file '.current_layout_0x7f7e43b88df0'...\n",
      "null/COMETS_manifest.txt (No such file or directory)\n",
      "Unable to initialize manifest file. \n",
      "Continuing without writing manifest file.\n",
      "Found 3 model files!\n",
      "Loading './producer.cmd' ...\n",
      "Academic license - for non-commercial use only - expires 2025-01-04\n",
      "Academic license - for non-commercial use only - expires 2025-01-04\n",
      "Done!\n",
      " Testing default parameters...\n",
      "Done!\n",
      "Optimizer status code = 5 (looks ok!)\n",
      "objective solution = 0.7352941176470588\n",
      "Loading './resistant.cmd' ...\n",
      "Academic license - for non-commercial use only - expires 2025-01-04\n",
      "Academic license - for non-commercial use only - expires 2025-01-04\n",
      "Done!\n",
      " Testing default parameters...\n",
      "Done!\n",
      "Optimizer status code = 5 (looks ok!)\n",
      "objective solution = 0.75\n",
      "Loading './susceptible.cmd' ...\n",
      "Academic license - for non-commercial use only - expires 2025-01-04\n",
      "Academic license - for non-commercial use only - expires 2025-01-04\n",
      "Done!\n",
      " Testing default parameters...\n",
      "Done!\n",
      "Optimizer status code = 5 (looks ok!)\n",
      "objective solution = 0.75\n",
      "Constructing world...\n",
      "Done!\n",
      "medialist\tcarbon_e\ttoxin_e\n",
      "Cycle 1\n",
      "Unstable diffusion constants. Try setting the time step below 1.25seconds\n",
      "Unstable diffusion constants. Try setting the time step below 12.500000000000002seconds\n",
      "Total biomass:\n",
      "Model producer.cmd: 5.06118588343841E-10\n",
      "Model resistant.cmd: 5.06238886030183E-10\n",
      "Model susceptible.cmd: 2.0249770984009094E-9\n",
      "Cycle 2\n",
      "Unstable diffusion constants. Try setting the time step below 1.25seconds\n",
      "Unstable diffusion constants. Try setting the time step below 12.500000000000002seconds\n",
      "Total biomass:\n",
      "Model producer.cmd: 5.123137939055572E-10\n",
      "Model resistant.cmd: 5.125566999600462E-10\n",
      "Model susceptible.cmd: 2.0502683399327443E-9\n",
      "Cycle 3\n",
      "Unstable diffusion constants. Try setting the time step below 1.25seconds\n",
      "Unstable diffusion constants. Try setting the time step below 12.500000000000002seconds\n",
      "Total biomass:\n",
      "Model producer.cmd: 5.185658327624899E-10\n",
      "Model resistant.cmd: 5.189230109354325E-10\n",
      "Model susceptible.cmd: 2.075825525669293E-9\n",
      "Cycle 4\n",
      "Unstable diffusion constants. Try setting the time step below 1.25seconds\n",
      "Unstable diffusion constants. Try setting the time step below 12.500000000000002seconds\n",
      "Total biomass:\n",
      "Model producer.cmd: 5.24914396442414E-10\n",
      "Model resistant.cmd: 5.254012820447942E-10\n",
      "Model susceptible.cmd: 2.101758699746287E-9\n",
      "Cycle 5\n",
      "Unstable diffusion constants. Try setting the time step below 1.25seconds\n",
      "Unstable diffusion constants. Try setting the time step below 12.500000000000002seconds\n",
      "Total biomass:\n",
      "Model producer.cmd: 5.313317928866334E-10\n",
      "Model resistant.cmd: 5.319492788101487E-10\n",
      "Model susceptible.cmd: 2.1279950498363656E-9\n",
      "Cycle 6\n",
      "End of simulation\n",
      "Total time = 0.647s\n",
      "\n"
     ]
    }
   ],
   "source": [
    "print(sim.run_output)"
   ]
  },
  {
   "cell_type": "markdown",
   "metadata": {},
   "source": [
    "OK, lets increase numDiffPerStep"
   ]
  },
  {
   "cell_type": "code",
   "execution_count": 21,
   "metadata": {},
   "outputs": [
    {
     "name": "stdout",
     "output_type": "stream",
     "text": [
      "\n",
      "Running COMETS simulation ...\n",
      "Done!\n",
      "-script\n",
      "running script file: /Users/abisesi/Desktop/PhD/Projects/Toxins-Growth-Rate/jmc-scripts/.current_script_0x7f7e43b88d00\n",
      "Current Java version: 20.0.2\n",
      "Parameters file .current_global_0x7f7e43b88d00 loaded.\n",
      "Parameters file .current_package_0x7f7e43b88d00 loaded.\n",
      "Loading layout file '.current_layout_0x7f7e43b88d00'...\n",
      "null/COMETS_manifest.txt (No such file or directory)\n",
      "Unable to initialize manifest file. \n",
      "Continuing without writing manifest file.\n",
      "Found 3 model files!\n",
      "Loading './producer.cmd' ...\n",
      "Academic license - for non-commercial use only - expires 2025-01-04\n",
      "Academic license - for non-commercial use only - expires 2025-01-04\n",
      "Done!\n",
      " Testing default parameters...\n",
      "Done!\n",
      "Optimizer status code = 5 (looks ok!)\n",
      "objective solution = 0.7352941176470588\n",
      "Loading './resistant.cmd' ...\n",
      "Academic license - for non-commercial use only - expires 2025-01-04\n",
      "Academic license - for non-commercial use only - expires 2025-01-04\n",
      "Done!\n",
      " Testing default parameters...\n",
      "Done!\n",
      "Optimizer status code = 5 (looks ok!)\n",
      "objective solution = 0.75\n",
      "Loading './susceptible.cmd' ...\n",
      "Academic license - for non-commercial use only - expires 2025-01-04\n",
      "Academic license - for non-commercial use only - expires 2025-01-04\n",
      "Done!\n",
      " Testing default parameters...\n",
      "Done!\n",
      "Optimizer status code = 5 (looks ok!)\n",
      "objective solution = 0.75\n",
      "Constructing world...\n",
      "Done!\n",
      "medialist\tcarbon_e\ttoxin_e\n",
      "Cycle 1\n",
      "Total biomass:\n",
      "Model producer.cmd: 5.061211670982501E-10\n",
      "Model resistant.cmd: 5.06242119499058E-10\n",
      "Model susceptible.cmd: 2.024981645672095E-9\n",
      "Cycle 2\n",
      "Total biomass:\n",
      "Model producer.cmd: 5.12316619394418E-10\n",
      "Model resistant.cmd: 5.125602450201092E-10\n",
      "Model susceptible.cmd: 2.050273683777304E-9\n",
      "Cycle 3\n",
      "Total biomass:\n",
      "Model producer.cmd: 5.185689496267139E-10\n",
      "Model resistant.cmd: 5.189268937308973E-10\n",
      "Model susceptible.cmd: 2.0758316199110326E-9\n",
      "Cycle 4\n",
      "Total biomass:\n",
      "Model producer.cmd: 5.249177764333874E-10\n",
      "Model resistant.cmd: 5.254055101174597E-10\n",
      "Model susceptible.cmd: 2.1017653847212963E-9\n",
      "Cycle 5\n",
      "Total biomass:\n",
      "Model producer.cmd: 5.313354474400575E-10\n",
      "Model resistant.cmd: 5.319538643918565E-10\n",
      "Model susceptible.cmd: 2.1280023590735944E-9\n",
      "Cycle 6\n",
      "End of simulation\n",
      "Total time = 0.869s\n",
      "\n"
     ]
    }
   ],
   "source": [
    "p.set_param(\"numDiffPerStep\", 60)\n",
    "sim = c.comets(l, p)\n",
    "#sim.VERSION = 'comets_multitoxin.jar'\n",
    "#sim.set_classpath('bin', '/home/jeremy/Dropbox/work_related/harcombe_lab/segre/jars/comets_multitoxin.jar')\n",
    "sim.run()\n",
    "print(sim.run_output)"
   ]
  },
  {
   "cell_type": "code",
   "execution_count": 57,
   "metadata": {},
   "outputs": [
    {
     "data": {
      "text/html": [
       "\n",
       "        <table>\n",
       "            <tr>\n",
       "                <td><strong>Reaction identifier</strong></td><td>Biomass</td>\n",
       "            </tr><tr>\n",
       "                <td><strong>Name</strong></td><td></td>\n",
       "            </tr><tr>\n",
       "                <td><strong>Memory address</strong></td>\n",
       "                <td>0x7fc643720520</td>\n",
       "            </tr><tr>\n",
       "                <td><strong>Stoichiometry</strong></td>\n",
       "                <td>\n",
       "                    <p style='text-align:right'>1.02 carbon_c --> 1.02 toxin_c</p>\n",
       "                    <p style='text-align:right'>1.02 --> 1.02</p>\n",
       "                </td>\n",
       "            </tr><tr>\n",
       "                <td><strong>GPR</strong></td><td></td>\n",
       "            </tr><tr>\n",
       "                <td><strong>Lower bound</strong></td><td>0.0</td>\n",
       "            </tr><tr>\n",
       "                <td><strong>Upper bound</strong></td><td>1000.0</td>\n",
       "            </tr>\n",
       "        </table>\n",
       "        "
      ],
      "text/plain": [
       "<Reaction Biomass at 0x7fc643720520>"
      ]
     },
     "execution_count": 57,
     "metadata": {},
     "output_type": "execute_result"
    }
   ],
   "source": [
    "producer.reactions.Biomass"
   ]
  },
  {
   "cell_type": "markdown",
   "metadata": {},
   "source": [
    "# okay looks good, no warning about diffusion constants. Increase maxCycles and move forward"
   ]
  },
  {
   "cell_type": "code",
   "execution_count": 53,
   "metadata": {},
   "outputs": [
    {
     "name": "stdout",
     "output_type": "stream",
     "text": [
      "\n",
      "Running COMETS simulation ...\n",
      "\n",
      "Debug Here ...\n",
      "Done!\n",
      "   cycle      producer     resistant   susceptible\n",
      "0      0  5.000000e-10  5.000000e-10  2.000000e-09\n",
      "1      1  5.061202e-10  5.062420e-10  2.024979e-09\n",
      "2      2  5.123167e-10  5.125610e-10  2.050272e-09\n",
      "3      3  5.185723e-10  5.189403e-10  2.075848e-09\n",
      "4      4  5.249216e-10  5.254200e-10  2.101783e-09\n",
      "5      5  5.313408e-10  5.319703e-10  2.128026e-09\n"
     ]
    }
   ],
   "source": [
    "#p.set_param(\"maxCycles\", 60 * 36)\n",
    "p.set_param('maxCycles', 5)\n",
    "sim = c.comets(l, p)\n",
    "#sim.VERSION = 'comets_multitoxin.jar'\n",
    "#sim.set_classpath('bin', '/home/jeremy/Dropbox/work_related/harcombe_lab/segre/jars/comets_multitoxin.jar')\n",
    "sim.run()\n",
    "print(sim.total_biomass)"
   ]
  },
  {
   "cell_type": "code",
   "execution_count": 23,
   "metadata": {},
   "outputs": [
    {
     "data": {
      "text/plain": [
       "<AxesSubplot: xlabel='cycle'>"
      ]
     },
     "execution_count": 23,
     "metadata": {},
     "output_type": "execute_result"
    },
    {
     "data": {
      "image/png": "[encoded data removed]",
      "text/plain": [
       "<Figure size 640x480 with 1 Axes>"
      ]
     },
     "metadata": {},
     "output_type": "display_data"
    }
   ],
   "source": [
    "sim.total_biomass.plot(x = \"cycle\", logy = True)"
   ]
  },
  {
   "cell_type": "code",
   "execution_count": null,
   "metadata": {},
   "outputs": [],
   "source": []
  }
 ],
 "metadata": {
  "kernelspec": {
   "display_name": "Python 3 (ipykernel)",
   "language": "python",
   "name": "python3"
  },
  "language_info": {
   "codemirror_mode": {
    "name": "ipython",
    "version": 3
   },
   "file_extension": ".py",
   "mimetype": "text/x-python",
   "name": "python",
   "nbconvert_exporter": "python",
   "pygments_lexer": "ipython3",
   "version": "3.8.19"
  }
 },
 "nbformat": 4,
 "nbformat_minor": 4
}
